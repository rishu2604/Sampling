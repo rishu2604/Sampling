{
 "cells": [
  {
   "cell_type": "code",
   "execution_count": null,
   "metadata": {},
   "outputs": [],
   "source": [
    "import pandas as pd\n",
    "import numpy as np\n",
    "import random\n",
    "from imblearn.over_sampling import RandomOverSampler, SMOTE\n",
    "from sklearn.model_selection import train_test_split\n",
    "from sklearn.linear_model import LogisticRegression\n",
    "from sklearn.tree import DecisionTreeClassifier\n",
    "from sklearn.ensemble import AdaBoostClassifier, RandomForestClassifier, ExtraTreesClassifier\n",
    "from sklearn.metrics import accuracy_score\n"
   ]
  },
  {
   "cell_type": "code",
   "execution_count": null,
   "metadata": {},
   "outputs": [],
   "source": [
    "\n",
    "data_frame=pd.read_csv(\"Creditcard_data.csv\")\n"
   ]
  },
  {
   "cell_type": "code",
   "execution_count": null,
   "metadata": {},
   "outputs": [],
   "source": [
    "\n",
    "#Oversampling\n",
    "over_sampling = SMOTE(sampling_strategy='minority',random_state=42)\n",
    "x=data_frame.iloc[:,:-1]\n",
    "y=data_frame.iloc[:,-1]\n",
    "x_sampled,y_sampled=over_sampling.fit_resample(x,y)\n",
    "data_frame2=pd.concat([x_sampled,y_sampled], axis=1)\n"
   ]
  },
  {
   "cell_type": "code",
   "execution_count": null,
   "metadata": {},
   "outputs": [],
   "source": [
    "\n",
    "#Simple Random Sampling\n",
    "simpleRandomSampling=(1.96**2)*0.5*(1-0.5)/(0.05**2)\n",
    "data_simpleRandomSampling=(data_frame2.sample(int(simpleRandomSampling),random_state=42))\n",
    "\n",
    "x_train, x_test, y_train, y_test=train_test_split(data_simpleRandomSampling.iloc[:,:-1],data_simpleRandomSampling.iloc[:,-1],test_size=0.2,random_state=42)\n",
    "model_1 = LogisticRegression(max_iter= 2500,random_state=42)\n",
    "model_2 = DecisionTreeClassifier(random_state=42)\n",
    "model_3 = ExtraTreesClassifier()\n",
    "model_4 = AdaBoostClassifier()\n",
    "model_5 = RandomForestClassifier()\n",
    "\n",
    "model_1.fit(x_train,y_train)\n",
    "model_2.fit(x_train,y_train)\n",
    "model_3.fit(x_train,y_train)\n",
    "model_4.fit(x_train,y_train)\n",
    "model_5.fit(x_train,y_train)\n",
    "\n",
    "y_pred1 = model_1.predict(x_test)\n",
    "y_pred2 = model_2.predict(x_test)\n",
    "y_pred3 = model_3.predict(x_test)\n",
    "y_pred4 = model_4.predict(x_test)\n",
    "y_pred5 = model_5.predict(x_test)\n",
    "\n",
    "final_res=[[accuracy_score(y_test, y_pred1),accuracy_score(y_test, y_pred2),accuracy_score(y_test,y_pred3),accuracy_score(y_test,y_pred4),accuracy_score(y_test,y_pred5)]]\n"
   ]
  },
  {
   "cell_type": "code",
   "execution_count": 15,
   "metadata": {},
   "outputs": [],
   "source": [
    "\n",
    "#Systematic Random Sampling\n",
    "data_frame_systematic=data_frame2.iloc[[i for i in range(5,1000,2)],:]\n",
    "\n",
    "x_train, x_test, y_train, y_test=train_test_split(data_frame_systematic.iloc[:,:-1],data_frame_systematic.iloc[:,-1],test_size=0.2,random_state=42)\n",
    "model_1 = LogisticRegression(max_iter= 2500,random_state=42)\n",
    "model_2 = DecisionTreeClassifier(random_state=42)\n",
    "model_3 = ExtraTreesClassifier()\n",
    "model_4 = AdaBoostClassifier()\n",
    "model_5 = RandomForestClassifier()\n",
    "\n",
    "model_1.fit(x_train,y_train)\n",
    "model_2.fit(x_train,y_train)\n",
    "model_3.fit(x_train,y_train)\n",
    "model_4.fit(x_train,y_train)\n",
    "model_5.fit(x_train,y_train)\n",
    "\n",
    "y_pred1 = model_1.predict(x_test)\n",
    "y_pred2 = model_2.predict(x_test)\n",
    "y_pred3 = model_3.predict(x_test)\n",
    "y_pred4 = model_4.predict(x_test)\n",
    "y_pred5 = model_5.predict(x_test)\n",
    "\n",
    "res=[accuracy_score(y_test, y_pred1),accuracy_score(y_test, y_pred2),accuracy_score(y_test,y_pred3),accuracy_score(y_test,y_pred4),accuracy_score(y_test,y_pred5)]\n",
    "final_res.append(res)\n"
   ]
  },
  {
   "cell_type": "code",
   "execution_count": 16,
   "metadata": {},
   "outputs": [],
   "source": [
    "\n",
    "#stratified sampling\n",
    "sample_StratifiedSampling=(1.96**2)*0.3*(1-0.3)/((0.05/2)**2)\n",
    "data_frame_stratified=data_frame2.groupby('Class', group_keys=False).apply(lambda x: x.sample(int(sample_StratifiedSampling/2),random_state=42))\n",
    "x_train, x_test, y_train, y_test=train_test_split(data_frame_stratified.iloc[:,:-1],data_frame_stratified.iloc[:,-1],test_size=0.2,random_state=42)\n",
    "model_1 = LogisticRegression(max_iter= 2500,random_state=42)\n",
    "model_2 = DecisionTreeClassifier(random_state=42)\n",
    "model_3 = ExtraTreesClassifier()\n",
    "model_4 = AdaBoostClassifier()\n",
    "model_5 = RandomForestClassifier()\n",
    "\n",
    "model_1.fit(x_train,y_train)\n",
    "model_2.fit(x_train,y_train)\n",
    "model_3.fit(x_train,y_train)\n",
    "model_4.fit(x_train,y_train)\n",
    "model_5.fit(x_train,y_train)\n",
    "\n",
    "y_pred1 = model_1.predict(x_test)\n",
    "y_pred2 = model_2.predict(x_test)\n",
    "y_pred3 = model_3.predict(x_test)\n",
    "y_pred4 = model_4.predict(x_test)\n",
    "y_pred5 = model_5.predict(x_test)\n",
    "\n",
    "res=[accuracy_score(y_test, y_pred1),accuracy_score(y_test, y_pred2),accuracy_score(y_test,y_pred3),accuracy_score(y_test,y_pred4),accuracy_score(y_test,y_pred5)]\n",
    "final_res.append(res)\n"
   ]
  },
  {
   "cell_type": "code",
   "execution_count": 17,
   "metadata": {},
   "outputs": [],
   "source": [
    "\n",
    "#cluster sampling\n",
    "sample_ClusterSampling=(1.96**2)*0.1*(1-0.1)/((0.05/3)**2)\n",
    "s=set(list(data_frame2['Time']))\n",
    "s1=pd.Series(list(s))\n",
    "data_frame_clustered=(data_frame2[data_frame2['Time'].isin([ i for i in s1.sample(int(sample_ClusterSampling/3),random_state=42)])])\n",
    "\n",
    "x_train, x_test, y_train, y_test=train_test_split(data_frame_clustered.iloc[:,:-1],data_frame_clustered.iloc[:,-1],test_size=0.2,random_state=42)\n",
    "model_1 = LogisticRegression(max_iter= 2500,random_state=42)\n",
    "model_2 = DecisionTreeClassifier(random_state=42)\n",
    "model_3 = ExtraTreesClassifier()\n",
    "model_4 = AdaBoostClassifier()\n",
    "model_5 = RandomForestClassifier()\n",
    "\n",
    "model_1.fit(x_train,y_train)\n",
    "model_2.fit(x_train,y_train)\n",
    "model_3.fit(x_train,y_train)\n",
    "model_4.fit(x_train,y_train)\n",
    "model_5.fit(x_train,y_train)\n",
    "\n",
    "y_pred1 = model_1.predict(x_test)\n",
    "y_pred2 = model_2.predict(x_test)\n",
    "y_pred3 = model_3.predict(x_test)\n",
    "y_pred4 = model_4.predict(x_test)\n",
    "y_pred5 = model_5.predict(x_test)\n",
    "\n",
    "res=[accuracy_score(y_test, y_pred1),accuracy_score(y_test, y_pred2),accuracy_score(y_test,y_pred3),accuracy_score(y_test,y_pred4),accuracy_score(y_test,y_pred5)]\n",
    "final_res.append(res)\n",
    "\n"
   ]
  },
  {
   "cell_type": "code",
   "execution_count": 18,
   "metadata": {},
   "outputs": [],
   "source": [
    "\n",
    "#Quota Sampling\n",
    "data_frame_only0=data_frame2[data_frame2['Class']==0].iloc[:500]\n",
    "data_frame_only1=data_frame2[data_frame2['Class']==1].iloc[:500]\n",
    "data_frame_quotasampling =pd.concat([data_frame_only0 ,data_frame_only1], axis=0)\n",
    "\n",
    "x_train, x_test, y_train, y_test=train_test_split(data_frame_quotasampling.iloc[:,:-1],data_frame_quotasampling.iloc[:,-1],test_size=0.2,random_state=42)\n",
    "model_1 = LogisticRegression(max_iter= 2500,random_state=42)\n",
    "model_2 = DecisionTreeClassifier(random_state=42)\n",
    "model_3 = ExtraTreesClassifier()\n",
    "model_4 = AdaBoostClassifier()\n",
    "model_5 = RandomForestClassifier()\n",
    "\n",
    "model_1.fit(x_train,y_train)\n",
    "model_2.fit(x_train,y_train)\n",
    "model_3.fit(x_train,y_train)\n",
    "model_4.fit(x_train,y_train)\n",
    "model_5.fit(x_train,y_train)\n",
    "\n",
    "y_pred1 = model_1.predict(x_test)\n",
    "y_pred2 = model_2.predict(x_test)\n",
    "y_pred3 = model_3.predict(x_test)\n",
    "y_pred4 = model_4.predict(x_test)\n",
    "y_pred5 = model_5.predict(x_test)\n",
    "\n",
    "res=[accuracy_score(y_test, y_pred1),accuracy_score(y_test, y_pred2),accuracy_score(y_test,y_pred3),accuracy_score(y_test,y_pred4),accuracy_score(y_test,y_pred5)]\n",
    "final_res.append(res)\n"
   ]
  },
  {
   "cell_type": "code",
   "execution_count": 21,
   "metadata": {},
   "outputs": [
    {
     "name": "stdout",
     "output_type": "stream",
     "text": [
      "           LogReg  Decision Tree  ExtraTrees  AdaBoost  Random Forest\n",
      "Sample1  0.883117       0.961039    0.961039  0.935065       0.974026\n",
      "Sample2  0.910000       0.950000    0.990000  1.000000       0.950000\n",
      "Sample3  0.922481       0.965116    0.996124  0.996124       0.992248\n",
      "Sample4  0.906122       0.975510    0.991837  0.987755       0.995918\n",
      "Sample5  0.915000       0.970000    0.995000  0.970000       1.000000\n"
     ]
    }
   ],
   "source": [
    "res_table=pd.DataFrame(final_res)\n",
    "res_table = res_table.rename(columns={0: 'LogReg', 1: 'Decision Tree', 2: 'ExtraTrees', 3:'AdaBoost',4: 'Random Forest'})\n",
    "res_table = res_table.rename(index={0: 'Sample1', 1: 'Sample2', 2: 'Sample3',3: 'Sample4',4: 'Sample5'})\n",
    "print(res_table)\n"
   ]
  },
  {
   "cell_type": "code",
   "execution_count": 22,
   "metadata": {},
   "outputs": [
    {
     "name": "stdout",
     "output_type": "stream",
     "text": [
      "AdaBoost Classifier method with Systematic Random Sampling gives the highest accuracy 1.0\n"
     ]
    }
   ],
   "source": [
    "\n",
    "max_accuracy=-1\n",
    "sampling=\"\"\n",
    "model=\"\"\n",
    "for i in range(len(final_res)):\n",
    "    for j in range(len(final_res[0])):\n",
    "        if (final_res[i][j]>max_accuracy):          \n",
    "            if i==0:\n",
    "                sampling=\"Simple Random Sampling\"\n",
    "            elif i==1:\n",
    "                sampling=\"Systematic Random Sampling\"\n",
    "            elif i==2:\n",
    "                sampling=\"Stratified sampling\"\n",
    "            elif i==3:\n",
    "                sampling=\"Cluster Sampling\"\n",
    "            elif i==4:\n",
    "                sampling=\"Quota Sampling\"\n",
    "            if j==0:\n",
    "                model=\"Logistic Regression\"\n",
    "            elif j==1:\n",
    "                model=\"Decision Tree Classifier\"\n",
    "            elif j==2:\n",
    "                model=\"ExtraTrees Classifier\"\n",
    "            elif j==3:\n",
    "                model=\"AdaBoost Classifier\"\n",
    "            elif j==4:\n",
    "                model=\"Random Forest Classifier\"                    \n",
    "            max_accuracy=final_res[i][j]\n",
    "\n",
    "print(f'{model} method with {sampling} gives the highest accuracy {max_accuracy}') "
   ]
  }
 ],
 "metadata": {
  "kernelspec": {
   "display_name": "Python 3",
   "language": "python",
   "name": "python3"
  },
  "language_info": {
   "codemirror_mode": {
    "name": "ipython",
    "version": 3
   },
   "file_extension": ".py",
   "mimetype": "text/x-python",
   "name": "python",
   "nbconvert_exporter": "python",
   "pygments_lexer": "ipython3",
   "version": "3.10.8"
  },
  "orig_nbformat": 4,
  "vscode": {
   "interpreter": {
    "hash": "76d7c06053c3456e5600312cec90888656fc0ed30c03d8425b9dac6e4fc8e014"
   }
  }
 },
 "nbformat": 4,
 "nbformat_minor": 2
}
